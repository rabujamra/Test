{
 "cells": [
  {
   "cell_type": "markdown",
   "id": "d267e865",
   "metadata": {},
   "source": [
    "# Uplift Modeling SOA"
   ]
  },
  {
   "cell_type": "code",
   "execution_count": 640,
   "id": "c8388bf1",
   "metadata": {},
   "outputs": [],
   "source": [
    "import pandas as pd\n",
    "import numpy as np\n",
    "import matplotlib.pyplot as plt\n",
    "from sklearn.linear_model import LogisticRegression\n",
    "from sklearn.tree import DecisionTreeClassifier\n",
    "from sklearn.preprocessing import LabelEncoder\n",
    "import seaborn as sns\n",
    "from lightgbm import LGBMRegressor\n",
    "\n",
    "\n",
    "pd.set_option('display.max_columns', None)\n",
    "pd.set_option('display.max_rows', None)"
   ]
  },
  {
   "cell_type": "code",
   "execution_count": 641,
   "id": "51c27f2e",
   "metadata": {},
   "outputs": [],
   "source": [
    "df = pd.read_csv('Readmit_R.csv')"
   ]
  },
  {
   "cell_type": "code",
   "execution_count": 642,
   "id": "574a90d1",
   "metadata": {},
   "outputs": [
    {
     "data": {
      "text/plain": [
       "(66782, 11)"
      ]
     },
     "execution_count": 642,
     "metadata": {},
     "output_type": "execute_result"
    }
   ],
   "source": [
    "df.shape"
   ]
  },
  {
   "cell_type": "code",
   "execution_count": 643,
   "id": "5499a302",
   "metadata": {},
   "outputs": [],
   "source": [
    "# Clean up\n",
    "\n",
    "df.drop(columns=df.columns[0:1], axis=1, inplace=True)\n",
    "\n",
    "df.rename({'ID.Codes': 'ID', \n",
    "           'Readmission.Status': 'Readmit', \n",
    "           'DRG.Class': 'DRG_Class', \n",
    "           'DRG.Complication': 'DRG_Comp',\n",
    "           'HCC.Riskscore': 'HCC'}, axis=1, inplace=True)"
   ]
  },
  {
   "cell_type": "code",
   "execution_count": 644,
   "id": "44f56bdf",
   "metadata": {},
   "outputs": [
    {
     "data": {
      "text/html": [
       "<div>\n",
       "<style scoped>\n",
       "    .dataframe tbody tr th:only-of-type {\n",
       "        vertical-align: middle;\n",
       "    }\n",
       "\n",
       "    .dataframe tbody tr th {\n",
       "        vertical-align: top;\n",
       "    }\n",
       "\n",
       "    .dataframe thead th {\n",
       "        text-align: right;\n",
       "    }\n",
       "</style>\n",
       "<table border=\"1\" class=\"dataframe\">\n",
       "  <thead>\n",
       "    <tr style=\"text-align: right;\">\n",
       "      <th></th>\n",
       "      <th>ID</th>\n",
       "      <th>Readmit</th>\n",
       "      <th>Gender</th>\n",
       "      <th>Race</th>\n",
       "      <th>ER</th>\n",
       "      <th>DRG_Class</th>\n",
       "      <th>LOS</th>\n",
       "      <th>Age</th>\n",
       "      <th>HCC</th>\n",
       "      <th>DRG_Comp</th>\n",
       "    </tr>\n",
       "  </thead>\n",
       "  <tbody>\n",
       "    <tr>\n",
       "      <th>0</th>\n",
       "      <td>0005EC02F1DC3A15</td>\n",
       "      <td>0</td>\n",
       "      <td>M</td>\n",
       "      <td>White</td>\n",
       "      <td>0</td>\n",
       "      <td>MED</td>\n",
       "      <td>3</td>\n",
       "      <td>71</td>\n",
       "      <td>1.631</td>\n",
       "      <td>MedicalMCC.CC</td>\n",
       "    </tr>\n",
       "    <tr>\n",
       "      <th>1</th>\n",
       "      <td>0005EC02F1DC3A15</td>\n",
       "      <td>0</td>\n",
       "      <td>M</td>\n",
       "      <td>White</td>\n",
       "      <td>0</td>\n",
       "      <td>SURG</td>\n",
       "      <td>2</td>\n",
       "      <td>71</td>\n",
       "      <td>1.631</td>\n",
       "      <td>Other</td>\n",
       "    </tr>\n",
       "    <tr>\n",
       "      <th>2</th>\n",
       "      <td>0006C4369B0D7B5F</td>\n",
       "      <td>0</td>\n",
       "      <td>M</td>\n",
       "      <td>White</td>\n",
       "      <td>0</td>\n",
       "      <td>MED</td>\n",
       "      <td>2</td>\n",
       "      <td>68</td>\n",
       "      <td>0.585</td>\n",
       "      <td>MedicalNoC</td>\n",
       "    </tr>\n",
       "    <tr>\n",
       "      <th>3</th>\n",
       "      <td>000960C9E1C43BE4</td>\n",
       "      <td>0</td>\n",
       "      <td>F</td>\n",
       "      <td>White</td>\n",
       "      <td>0</td>\n",
       "      <td>SURG</td>\n",
       "      <td>12</td>\n",
       "      <td>79</td>\n",
       "      <td>1.660</td>\n",
       "      <td>SurgNoC</td>\n",
       "    </tr>\n",
       "    <tr>\n",
       "      <th>4</th>\n",
       "      <td>00098CF15837D918</td>\n",
       "      <td>0</td>\n",
       "      <td>M</td>\n",
       "      <td>White</td>\n",
       "      <td>0</td>\n",
       "      <td>SURG</td>\n",
       "      <td>4</td>\n",
       "      <td>91</td>\n",
       "      <td>1.768</td>\n",
       "      <td>SurgNoC</td>\n",
       "    </tr>\n",
       "  </tbody>\n",
       "</table>\n",
       "</div>"
      ],
      "text/plain": [
       "                 ID  Readmit Gender   Race  ER DRG_Class  LOS  Age    HCC  \\\n",
       "0  0005EC02F1DC3A15        0      M  White   0       MED    3   71  1.631   \n",
       "1  0005EC02F1DC3A15        0      M  White   0      SURG    2   71  1.631   \n",
       "2  0006C4369B0D7B5F        0      M  White   0       MED    2   68  0.585   \n",
       "3  000960C9E1C43BE4        0      F  White   0      SURG   12   79  1.660   \n",
       "4  00098CF15837D918        0      M  White   0      SURG    4   91  1.768   \n",
       "\n",
       "        DRG_Comp  \n",
       "0  MedicalMCC.CC  \n",
       "1          Other  \n",
       "2     MedicalNoC  \n",
       "3        SurgNoC  \n",
       "4        SurgNoC  "
      ]
     },
     "execution_count": 644,
     "metadata": {},
     "output_type": "execute_result"
    }
   ],
   "source": [
    "df.head()"
   ]
  },
  {
   "cell_type": "code",
   "execution_count": 645,
   "id": "11ee373d",
   "metadata": {},
   "outputs": [
    {
     "data": {
      "text/plain": [
       "0    58373\n",
       "1     8409\n",
       "Name: Readmit, dtype: int64"
      ]
     },
     "execution_count": 645,
     "metadata": {},
     "output_type": "execute_result"
    }
   ],
   "source": [
    "df.Readmit.value_counts()"
   ]
  },
  {
   "cell_type": "code",
   "execution_count": 646,
   "id": "43185c1d",
   "metadata": {},
   "outputs": [],
   "source": [
    "df1 = pd.get_dummies(df, columns = ['Gender','Race','DRG_Class','DRG_Comp'], drop_first=True)"
   ]
  },
  {
   "cell_type": "code",
   "execution_count": 647,
   "id": "a7ebfb11",
   "metadata": {},
   "outputs": [
    {
     "data": {
      "text/html": [
       "<div>\n",
       "<style scoped>\n",
       "    .dataframe tbody tr th:only-of-type {\n",
       "        vertical-align: middle;\n",
       "    }\n",
       "\n",
       "    .dataframe tbody tr th {\n",
       "        vertical-align: top;\n",
       "    }\n",
       "\n",
       "    .dataframe thead th {\n",
       "        text-align: right;\n",
       "    }\n",
       "</style>\n",
       "<table border=\"1\" class=\"dataframe\">\n",
       "  <thead>\n",
       "    <tr style=\"text-align: right;\">\n",
       "      <th></th>\n",
       "      <th>ID</th>\n",
       "      <th>Readmit</th>\n",
       "      <th>ER</th>\n",
       "      <th>LOS</th>\n",
       "      <th>Age</th>\n",
       "      <th>HCC</th>\n",
       "      <th>Gender_M</th>\n",
       "      <th>Race_Hispanic</th>\n",
       "      <th>Race_Others</th>\n",
       "      <th>Race_White</th>\n",
       "      <th>DRG_Class_SURG</th>\n",
       "      <th>DRG_Class_UNGROUP</th>\n",
       "      <th>DRG_Comp_MedicalNoC</th>\n",
       "      <th>DRG_Comp_Other</th>\n",
       "      <th>DRG_Comp_SurgMCC.CC</th>\n",
       "      <th>DRG_Comp_SurgNoC</th>\n",
       "    </tr>\n",
       "  </thead>\n",
       "  <tbody>\n",
       "    <tr>\n",
       "      <th>0</th>\n",
       "      <td>0005EC02F1DC3A15</td>\n",
       "      <td>0</td>\n",
       "      <td>0</td>\n",
       "      <td>3</td>\n",
       "      <td>71</td>\n",
       "      <td>1.631</td>\n",
       "      <td>1</td>\n",
       "      <td>0</td>\n",
       "      <td>0</td>\n",
       "      <td>1</td>\n",
       "      <td>0</td>\n",
       "      <td>0</td>\n",
       "      <td>0</td>\n",
       "      <td>0</td>\n",
       "      <td>0</td>\n",
       "      <td>0</td>\n",
       "    </tr>\n",
       "    <tr>\n",
       "      <th>1</th>\n",
       "      <td>0005EC02F1DC3A15</td>\n",
       "      <td>0</td>\n",
       "      <td>0</td>\n",
       "      <td>2</td>\n",
       "      <td>71</td>\n",
       "      <td>1.631</td>\n",
       "      <td>1</td>\n",
       "      <td>0</td>\n",
       "      <td>0</td>\n",
       "      <td>1</td>\n",
       "      <td>1</td>\n",
       "      <td>0</td>\n",
       "      <td>0</td>\n",
       "      <td>1</td>\n",
       "      <td>0</td>\n",
       "      <td>0</td>\n",
       "    </tr>\n",
       "    <tr>\n",
       "      <th>2</th>\n",
       "      <td>0006C4369B0D7B5F</td>\n",
       "      <td>0</td>\n",
       "      <td>0</td>\n",
       "      <td>2</td>\n",
       "      <td>68</td>\n",
       "      <td>0.585</td>\n",
       "      <td>1</td>\n",
       "      <td>0</td>\n",
       "      <td>0</td>\n",
       "      <td>1</td>\n",
       "      <td>0</td>\n",
       "      <td>0</td>\n",
       "      <td>1</td>\n",
       "      <td>0</td>\n",
       "      <td>0</td>\n",
       "      <td>0</td>\n",
       "    </tr>\n",
       "    <tr>\n",
       "      <th>3</th>\n",
       "      <td>000960C9E1C43BE4</td>\n",
       "      <td>0</td>\n",
       "      <td>0</td>\n",
       "      <td>12</td>\n",
       "      <td>79</td>\n",
       "      <td>1.660</td>\n",
       "      <td>0</td>\n",
       "      <td>0</td>\n",
       "      <td>0</td>\n",
       "      <td>1</td>\n",
       "      <td>1</td>\n",
       "      <td>0</td>\n",
       "      <td>0</td>\n",
       "      <td>0</td>\n",
       "      <td>0</td>\n",
       "      <td>1</td>\n",
       "    </tr>\n",
       "    <tr>\n",
       "      <th>4</th>\n",
       "      <td>00098CF15837D918</td>\n",
       "      <td>0</td>\n",
       "      <td>0</td>\n",
       "      <td>4</td>\n",
       "      <td>91</td>\n",
       "      <td>1.768</td>\n",
       "      <td>1</td>\n",
       "      <td>0</td>\n",
       "      <td>0</td>\n",
       "      <td>1</td>\n",
       "      <td>1</td>\n",
       "      <td>0</td>\n",
       "      <td>0</td>\n",
       "      <td>0</td>\n",
       "      <td>0</td>\n",
       "      <td>1</td>\n",
       "    </tr>\n",
       "  </tbody>\n",
       "</table>\n",
       "</div>"
      ],
      "text/plain": [
       "                 ID  Readmit  ER  LOS  Age    HCC  Gender_M  Race_Hispanic  \\\n",
       "0  0005EC02F1DC3A15        0   0    3   71  1.631         1              0   \n",
       "1  0005EC02F1DC3A15        0   0    2   71  1.631         1              0   \n",
       "2  0006C4369B0D7B5F        0   0    2   68  0.585         1              0   \n",
       "3  000960C9E1C43BE4        0   0   12   79  1.660         0              0   \n",
       "4  00098CF15837D918        0   0    4   91  1.768         1              0   \n",
       "\n",
       "   Race_Others  Race_White  DRG_Class_SURG  DRG_Class_UNGROUP  \\\n",
       "0            0           1               0                  0   \n",
       "1            0           1               1                  0   \n",
       "2            0           1               0                  0   \n",
       "3            0           1               1                  0   \n",
       "4            0           1               1                  0   \n",
       "\n",
       "   DRG_Comp_MedicalNoC  DRG_Comp_Other  DRG_Comp_SurgMCC.CC  DRG_Comp_SurgNoC  \n",
       "0                    0               0                    0                 0  \n",
       "1                    0               1                    0                 0  \n",
       "2                    1               0                    0                 0  \n",
       "3                    0               0                    0                 1  \n",
       "4                    0               0                    0                 1  "
      ]
     },
     "execution_count": 647,
     "metadata": {},
     "output_type": "execute_result"
    }
   ],
   "source": [
    "df1.head()"
   ]
  },
  {
   "cell_type": "code",
   "execution_count": 648,
   "id": "9841fb2a",
   "metadata": {},
   "outputs": [
    {
     "data": {
      "text/plain": [
       "<Axes: xlabel='Readmit', ylabel='HCC'>"
      ]
     },
     "execution_count": 648,
     "metadata": {},
     "output_type": "execute_result"
    },
    {
     "data": {
      "image/png": "[encoded data removed]",
      "text/plain": [
       "<Figure size 640x480 with 1 Axes>"
      ]
     },
     "metadata": {},
     "output_type": "display_data"
    }
   ],
   "source": [
    "sns.boxplot(x='Readmit', y='HCC',data=df1)"
   ]
  },
  {
   "cell_type": "code",
   "execution_count": 649,
   "id": "0f42f520",
   "metadata": {},
   "outputs": [
    {
     "data": {
      "text/plain": [
       "Readmit\n",
       "0    Axes(0.125,0.11;0.775x0.77)\n",
       "1    Axes(0.125,0.11;0.775x0.77)\n",
       "Name: HCC, dtype: object"
      ]
     },
     "execution_count": 649,
     "metadata": {},
     "output_type": "execute_result"
    },
    {
     "data": {
      "image/png": "[encoded data removed]",
      "text/plain": [
       "<Figure size 640x480 with 1 Axes>"
      ]
     },
     "metadata": {},
     "output_type": "display_data"
    }
   ],
   "source": [
    "df1.groupby('Readmit')['HCC'].plot(kind='density', legend=True)"
   ]
  },
  {
   "cell_type": "markdown",
   "id": "b4878cf6",
   "metadata": {},
   "source": [
    "## Model Propensities "
   ]
  },
  {
   "cell_type": "code",
   "execution_count": 650,
   "id": "e40900d8",
   "metadata": {},
   "outputs": [],
   "source": [
    "model = LogisticRegression()\n",
    "#model = DecisionTreeClassifier()"
   ]
  },
  {
   "cell_type": "code",
   "execution_count": 651,
   "id": "5f4d8ce9",
   "metadata": {},
   "outputs": [],
   "source": [
    "df_X = df1.drop(['Readmit','ID'],axis=1)\n",
    "df_y = df1['Readmit']"
   ]
  },
  {
   "cell_type": "code",
   "execution_count": 652,
   "id": "91bc7e21",
   "metadata": {},
   "outputs": [
    {
     "name": "stderr",
     "output_type": "stream",
     "text": [
      "/Users/joehaber/opt/anaconda3/lib/python3.9/site-packages/sklearn/linear_model/_logistic.py:458: ConvergenceWarning: lbfgs failed to converge (status=1):\n",
      "STOP: TOTAL NO. of ITERATIONS REACHED LIMIT.\n",
      "\n",
      "Increase the number of iterations (max_iter) or scale the data as shown in:\n",
      "    https://scikit-learn.org/stable/modules/preprocessing.html\n",
      "Please also refer to the documentation for alternative solver options:\n",
      "    https://scikit-learn.org/stable/modules/linear_model.html#logistic-regression\n",
      "  n_iter_i = _check_optimize_result(\n"
     ]
    },
    {
     "data": {
      "text/html": [
       "<style>#sk-container-id-4 {color: black;background-color: white;}#sk-container-id-4 pre{padding: 0;}#sk-container-id-4 div.sk-toggleable {background-color: white;}#sk-container-id-4 label.sk-toggleable__label {cursor: pointer;display: block;width: 100%;margin-bottom: 0;padding: 0.3em;box-sizing: border-box;text-align: center;}#sk-container-id-4 label.sk-toggleable__label-arrow:before {content: \"▸\";float: left;margin-right: 0.25em;color: #696969;}#sk-container-id-4 label.sk-toggleable__label-arrow:hover:before {color: black;}#sk-container-id-4 div.sk-estimator:hover label.sk-toggleable__label-arrow:before {color: black;}#sk-container-id-4 div.sk-toggleable__content {max-height: 0;max-width: 0;overflow: hidden;text-align: left;background-color: #f0f8ff;}#sk-container-id-4 div.sk-toggleable__content pre {margin: 0.2em;color: black;border-radius: 0.25em;background-color: #f0f8ff;}#sk-container-id-4 input.sk-toggleable__control:checked~div.sk-toggleable__content {max-height: 200px;max-width: 100%;overflow: auto;}#sk-container-id-4 input.sk-toggleable__control:checked~label.sk-toggleable__label-arrow:before {content: \"▾\";}#sk-container-id-4 div.sk-estimator input.sk-toggleable__control:checked~label.sk-toggleable__label {background-color: #d4ebff;}#sk-container-id-4 div.sk-label input.sk-toggleable__control:checked~label.sk-toggleable__label {background-color: #d4ebff;}#sk-container-id-4 input.sk-hidden--visually {border: 0;clip: rect(1px 1px 1px 1px);clip: rect(1px, 1px, 1px, 1px);height: 1px;margin: -1px;overflow: hidden;padding: 0;position: absolute;width: 1px;}#sk-container-id-4 div.sk-estimator {font-family: monospace;background-color: #f0f8ff;border: 1px dotted black;border-radius: 0.25em;box-sizing: border-box;margin-bottom: 0.5em;}#sk-container-id-4 div.sk-estimator:hover {background-color: #d4ebff;}#sk-container-id-4 div.sk-parallel-item::after {content: \"\";width: 100%;border-bottom: 1px solid gray;flex-grow: 1;}#sk-container-id-4 div.sk-label:hover label.sk-toggleable__label {background-color: #d4ebff;}#sk-container-id-4 div.sk-serial::before {content: \"\";position: absolute;border-left: 1px solid gray;box-sizing: border-box;top: 0;bottom: 0;left: 50%;z-index: 0;}#sk-container-id-4 div.sk-serial {display: flex;flex-direction: column;align-items: center;background-color: white;padding-right: 0.2em;padding-left: 0.2em;position: relative;}#sk-container-id-4 div.sk-item {position: relative;z-index: 1;}#sk-container-id-4 div.sk-parallel {display: flex;align-items: stretch;justify-content: center;background-color: white;position: relative;}#sk-container-id-4 div.sk-item::before, #sk-container-id-4 div.sk-parallel-item::before {content: \"\";position: absolute;border-left: 1px solid gray;box-sizing: border-box;top: 0;bottom: 0;left: 50%;z-index: -1;}#sk-container-id-4 div.sk-parallel-item {display: flex;flex-direction: column;z-index: 1;position: relative;background-color: white;}#sk-container-id-4 div.sk-parallel-item:first-child::after {align-self: flex-end;width: 50%;}#sk-container-id-4 div.sk-parallel-item:last-child::after {align-self: flex-start;width: 50%;}#sk-container-id-4 div.sk-parallel-item:only-child::after {width: 0;}#sk-container-id-4 div.sk-dashed-wrapped {border: 1px dashed gray;margin: 0 0.4em 0.5em 0.4em;box-sizing: border-box;padding-bottom: 0.4em;background-color: white;}#sk-container-id-4 div.sk-label label {font-family: monospace;font-weight: bold;display: inline-block;line-height: 1.2em;}#sk-container-id-4 div.sk-label-container {text-align: center;}#sk-container-id-4 div.sk-container {/* jupyter's `normalize.less` sets `[hidden] { display: none; }` but bootstrap.min.css set `[hidden] { display: none !important; }` so we also need the `!important` here to be able to override the default hidden behavior on the sphinx rendered scikit-learn.org. See: https://github.com/scikit-learn/scikit-learn/issues/21755 */display: inline-block !important;position: relative;}#sk-container-id-4 div.sk-text-repr-fallback {display: none;}</style><div id=\"sk-container-id-4\" class=\"sk-top-container\"><div class=\"sk-text-repr-fallback\"><pre>LogisticRegression()</pre><b>In a Jupyter environment, please rerun this cell to show the HTML representation or trust the notebook. <br />On GitHub, the HTML representation is unable to render, please try loading this page with nbviewer.org.</b></div><div class=\"sk-container\" hidden><div class=\"sk-item\"><div class=\"sk-estimator sk-toggleable\"><input class=\"sk-toggleable__control sk-hidden--visually\" id=\"sk-estimator-id-4\" type=\"checkbox\" checked><label for=\"sk-estimator-id-4\" class=\"sk-toggleable__label sk-toggleable__label-arrow\">LogisticRegression</label><div class=\"sk-toggleable__content\"><pre>LogisticRegression()</pre></div></div></div></div></div>"
      ],
      "text/plain": [
       "LogisticRegression()"
      ]
     },
     "execution_count": 652,
     "metadata": {},
     "output_type": "execute_result"
    }
   ],
   "source": [
    "model.fit(df_X, df_y)"
   ]
  },
  {
   "cell_type": "code",
   "execution_count": 653,
   "id": "79bf5bea",
   "metadata": {},
   "outputs": [],
   "source": [
    "y_pred = model.predict_proba(df_X)[:,1]"
   ]
  },
  {
   "cell_type": "code",
   "execution_count": 654,
   "id": "2f9498a7",
   "metadata": {},
   "outputs": [],
   "source": [
    "y_pred1 = model.predict(df_X)\n",
    "#y_pred1 = (model.predict_proba(df_X)[:,1] >= 0.11)#.astype(bool) "
   ]
  },
  {
   "cell_type": "code",
   "execution_count": 655,
   "id": "bad1587b",
   "metadata": {},
   "outputs": [],
   "source": [
    "df1['preds'] = y_pred\n",
    "df1['preds1'] = y_pred1"
   ]
  },
  {
   "cell_type": "code",
   "execution_count": 656,
   "id": "9bebfcb0",
   "metadata": {},
   "outputs": [
    {
     "data": {
      "text/html": [
       "<div>\n",
       "<style scoped>\n",
       "    .dataframe tbody tr th:only-of-type {\n",
       "        vertical-align: middle;\n",
       "    }\n",
       "\n",
       "    .dataframe tbody tr th {\n",
       "        vertical-align: top;\n",
       "    }\n",
       "\n",
       "    .dataframe thead th {\n",
       "        text-align: right;\n",
       "    }\n",
       "</style>\n",
       "<table border=\"1\" class=\"dataframe\">\n",
       "  <thead>\n",
       "    <tr style=\"text-align: right;\">\n",
       "      <th></th>\n",
       "      <th>ID</th>\n",
       "      <th>Readmit</th>\n",
       "      <th>ER</th>\n",
       "      <th>LOS</th>\n",
       "      <th>Age</th>\n",
       "      <th>HCC</th>\n",
       "      <th>Gender_M</th>\n",
       "      <th>Race_Hispanic</th>\n",
       "      <th>Race_Others</th>\n",
       "      <th>Race_White</th>\n",
       "      <th>DRG_Class_SURG</th>\n",
       "      <th>DRG_Class_UNGROUP</th>\n",
       "      <th>DRG_Comp_MedicalNoC</th>\n",
       "      <th>DRG_Comp_Other</th>\n",
       "      <th>DRG_Comp_SurgMCC.CC</th>\n",
       "      <th>DRG_Comp_SurgNoC</th>\n",
       "      <th>preds</th>\n",
       "      <th>preds1</th>\n",
       "    </tr>\n",
       "  </thead>\n",
       "  <tbody>\n",
       "    <tr>\n",
       "      <th>0</th>\n",
       "      <td>0005EC02F1DC3A15</td>\n",
       "      <td>0</td>\n",
       "      <td>0</td>\n",
       "      <td>3</td>\n",
       "      <td>71</td>\n",
       "      <td>1.631</td>\n",
       "      <td>1</td>\n",
       "      <td>0</td>\n",
       "      <td>0</td>\n",
       "      <td>1</td>\n",
       "      <td>0</td>\n",
       "      <td>0</td>\n",
       "      <td>0</td>\n",
       "      <td>0</td>\n",
       "      <td>0</td>\n",
       "      <td>0</td>\n",
       "      <td>0.078859</td>\n",
       "      <td>0</td>\n",
       "    </tr>\n",
       "    <tr>\n",
       "      <th>1</th>\n",
       "      <td>0005EC02F1DC3A15</td>\n",
       "      <td>0</td>\n",
       "      <td>0</td>\n",
       "      <td>2</td>\n",
       "      <td>71</td>\n",
       "      <td>1.631</td>\n",
       "      <td>1</td>\n",
       "      <td>0</td>\n",
       "      <td>0</td>\n",
       "      <td>1</td>\n",
       "      <td>1</td>\n",
       "      <td>0</td>\n",
       "      <td>0</td>\n",
       "      <td>1</td>\n",
       "      <td>0</td>\n",
       "      <td>0</td>\n",
       "      <td>0.088873</td>\n",
       "      <td>0</td>\n",
       "    </tr>\n",
       "    <tr>\n",
       "      <th>2</th>\n",
       "      <td>0006C4369B0D7B5F</td>\n",
       "      <td>0</td>\n",
       "      <td>0</td>\n",
       "      <td>2</td>\n",
       "      <td>68</td>\n",
       "      <td>0.585</td>\n",
       "      <td>1</td>\n",
       "      <td>0</td>\n",
       "      <td>0</td>\n",
       "      <td>1</td>\n",
       "      <td>0</td>\n",
       "      <td>0</td>\n",
       "      <td>1</td>\n",
       "      <td>0</td>\n",
       "      <td>0</td>\n",
       "      <td>0</td>\n",
       "      <td>0.052369</td>\n",
       "      <td>0</td>\n",
       "    </tr>\n",
       "    <tr>\n",
       "      <th>3</th>\n",
       "      <td>000960C9E1C43BE4</td>\n",
       "      <td>0</td>\n",
       "      <td>0</td>\n",
       "      <td>12</td>\n",
       "      <td>79</td>\n",
       "      <td>1.660</td>\n",
       "      <td>0</td>\n",
       "      <td>0</td>\n",
       "      <td>0</td>\n",
       "      <td>1</td>\n",
       "      <td>1</td>\n",
       "      <td>0</td>\n",
       "      <td>0</td>\n",
       "      <td>0</td>\n",
       "      <td>0</td>\n",
       "      <td>1</td>\n",
       "      <td>0.082954</td>\n",
       "      <td>0</td>\n",
       "    </tr>\n",
       "    <tr>\n",
       "      <th>4</th>\n",
       "      <td>00098CF15837D918</td>\n",
       "      <td>0</td>\n",
       "      <td>0</td>\n",
       "      <td>4</td>\n",
       "      <td>91</td>\n",
       "      <td>1.768</td>\n",
       "      <td>1</td>\n",
       "      <td>0</td>\n",
       "      <td>0</td>\n",
       "      <td>1</td>\n",
       "      <td>1</td>\n",
       "      <td>0</td>\n",
       "      <td>0</td>\n",
       "      <td>0</td>\n",
       "      <td>0</td>\n",
       "      <td>1</td>\n",
       "      <td>0.076201</td>\n",
       "      <td>0</td>\n",
       "    </tr>\n",
       "  </tbody>\n",
       "</table>\n",
       "</div>"
      ],
      "text/plain": [
       "                 ID  Readmit  ER  LOS  Age    HCC  Gender_M  Race_Hispanic  \\\n",
       "0  0005EC02F1DC3A15        0   0    3   71  1.631         1              0   \n",
       "1  0005EC02F1DC3A15        0   0    2   71  1.631         1              0   \n",
       "2  0006C4369B0D7B5F        0   0    2   68  0.585         1              0   \n",
       "3  000960C9E1C43BE4        0   0   12   79  1.660         0              0   \n",
       "4  00098CF15837D918        0   0    4   91  1.768         1              0   \n",
       "\n",
       "   Race_Others  Race_White  DRG_Class_SURG  DRG_Class_UNGROUP  \\\n",
       "0            0           1               0                  0   \n",
       "1            0           1               1                  0   \n",
       "2            0           1               0                  0   \n",
       "3            0           1               1                  0   \n",
       "4            0           1               1                  0   \n",
       "\n",
       "   DRG_Comp_MedicalNoC  DRG_Comp_Other  DRG_Comp_SurgMCC.CC  DRG_Comp_SurgNoC  \\\n",
       "0                    0               0                    0                 0   \n",
       "1                    0               1                    0                 0   \n",
       "2                    1               0                    0                 0   \n",
       "3                    0               0                    0                 1   \n",
       "4                    0               0                    0                 1   \n",
       "\n",
       "      preds  preds1  \n",
       "0  0.078859       0  \n",
       "1  0.088873       0  \n",
       "2  0.052369       0  \n",
       "3  0.082954       0  \n",
       "4  0.076201       0  "
      ]
     },
     "execution_count": 656,
     "metadata": {},
     "output_type": "execute_result"
    }
   ],
   "source": [
    "df1.head()"
   ]
  },
  {
   "cell_type": "code",
   "execution_count": 657,
   "id": "49922c9e",
   "metadata": {},
   "outputs": [
    {
     "data": {
      "text/plain": [
       "array([[<Axes: title={'center': 'preds'}>]], dtype=object)"
      ]
     },
     "execution_count": 657,
     "metadata": {},
     "output_type": "execute_result"
    },
    {
     "data": {
      "image/png": "[encoded data removed]",
      "text/plain": [
       "<Figure size 1200x800 with 1 Axes>"
      ]
     },
     "metadata": {},
     "output_type": "display_data"
    }
   ],
   "source": [
    "df1.hist(column ='preds', bins=50, grid=True, figsize=(12, 8))"
   ]
  },
  {
   "cell_type": "code",
   "execution_count": 749,
   "id": "61c024dd",
   "metadata": {},
   "outputs": [
    {
     "data": {
      "text/html": [
       "<div>\n",
       "<style scoped>\n",
       "    .dataframe tbody tr th:only-of-type {\n",
       "        vertical-align: middle;\n",
       "    }\n",
       "\n",
       "    .dataframe tbody tr th {\n",
       "        vertical-align: top;\n",
       "    }\n",
       "\n",
       "    .dataframe thead th {\n",
       "        text-align: right;\n",
       "    }\n",
       "</style>\n",
       "<table border=\"1\" class=\"dataframe\">\n",
       "  <thead>\n",
       "    <tr style=\"text-align: right;\">\n",
       "      <th></th>\n",
       "      <th>ID</th>\n",
       "      <th>Readmit</th>\n",
       "      <th>ER</th>\n",
       "      <th>LOS</th>\n",
       "      <th>Age</th>\n",
       "      <th>HCC</th>\n",
       "      <th>Gender_M</th>\n",
       "      <th>Race_Hispanic</th>\n",
       "      <th>Race_Others</th>\n",
       "      <th>Race_White</th>\n",
       "      <th>DRG_Class_SURG</th>\n",
       "      <th>DRG_Class_UNGROUP</th>\n",
       "      <th>DRG_Comp_MedicalNoC</th>\n",
       "      <th>DRG_Comp_Other</th>\n",
       "      <th>DRG_Comp_SurgMCC.CC</th>\n",
       "      <th>DRG_Comp_SurgNoC</th>\n",
       "      <th>preds</th>\n",
       "      <th>preds1</th>\n",
       "      <th>Tx</th>\n",
       "      <th>Readmit1</th>\n",
       "      <th>subgroup</th>\n",
       "    </tr>\n",
       "  </thead>\n",
       "  <tbody>\n",
       "    <tr>\n",
       "      <th>0</th>\n",
       "      <td>0005EC02F1DC3A15</td>\n",
       "      <td>0</td>\n",
       "      <td>0</td>\n",
       "      <td>3</td>\n",
       "      <td>71</td>\n",
       "      <td>1.631</td>\n",
       "      <td>1</td>\n",
       "      <td>0</td>\n",
       "      <td>0</td>\n",
       "      <td>1</td>\n",
       "      <td>0</td>\n",
       "      <td>0</td>\n",
       "      <td>0</td>\n",
       "      <td>0</td>\n",
       "      <td>0</td>\n",
       "      <td>0</td>\n",
       "      <td>0.078859</td>\n",
       "      <td>0</td>\n",
       "      <td>0</td>\n",
       "      <td>0</td>\n",
       "      <td>0</td>\n",
       "    </tr>\n",
       "    <tr>\n",
       "      <th>1</th>\n",
       "      <td>0005EC02F1DC3A15</td>\n",
       "      <td>0</td>\n",
       "      <td>0</td>\n",
       "      <td>2</td>\n",
       "      <td>71</td>\n",
       "      <td>1.631</td>\n",
       "      <td>1</td>\n",
       "      <td>0</td>\n",
       "      <td>0</td>\n",
       "      <td>1</td>\n",
       "      <td>1</td>\n",
       "      <td>0</td>\n",
       "      <td>0</td>\n",
       "      <td>1</td>\n",
       "      <td>0</td>\n",
       "      <td>0</td>\n",
       "      <td>0.088873</td>\n",
       "      <td>0</td>\n",
       "      <td>0</td>\n",
       "      <td>0</td>\n",
       "      <td>0</td>\n",
       "    </tr>\n",
       "    <tr>\n",
       "      <th>2</th>\n",
       "      <td>0006C4369B0D7B5F</td>\n",
       "      <td>0</td>\n",
       "      <td>0</td>\n",
       "      <td>2</td>\n",
       "      <td>68</td>\n",
       "      <td>0.585</td>\n",
       "      <td>1</td>\n",
       "      <td>0</td>\n",
       "      <td>0</td>\n",
       "      <td>1</td>\n",
       "      <td>0</td>\n",
       "      <td>0</td>\n",
       "      <td>1</td>\n",
       "      <td>0</td>\n",
       "      <td>0</td>\n",
       "      <td>0</td>\n",
       "      <td>0.052369</td>\n",
       "      <td>0</td>\n",
       "      <td>0</td>\n",
       "      <td>0</td>\n",
       "      <td>0</td>\n",
       "    </tr>\n",
       "    <tr>\n",
       "      <th>3</th>\n",
       "      <td>000960C9E1C43BE4</td>\n",
       "      <td>0</td>\n",
       "      <td>0</td>\n",
       "      <td>12</td>\n",
       "      <td>79</td>\n",
       "      <td>1.660</td>\n",
       "      <td>0</td>\n",
       "      <td>0</td>\n",
       "      <td>0</td>\n",
       "      <td>1</td>\n",
       "      <td>1</td>\n",
       "      <td>0</td>\n",
       "      <td>0</td>\n",
       "      <td>0</td>\n",
       "      <td>0</td>\n",
       "      <td>1</td>\n",
       "      <td>0.082954</td>\n",
       "      <td>0</td>\n",
       "      <td>0</td>\n",
       "      <td>0</td>\n",
       "      <td>0</td>\n",
       "    </tr>\n",
       "    <tr>\n",
       "      <th>4</th>\n",
       "      <td>00098CF15837D918</td>\n",
       "      <td>0</td>\n",
       "      <td>0</td>\n",
       "      <td>4</td>\n",
       "      <td>91</td>\n",
       "      <td>1.768</td>\n",
       "      <td>1</td>\n",
       "      <td>0</td>\n",
       "      <td>0</td>\n",
       "      <td>1</td>\n",
       "      <td>1</td>\n",
       "      <td>0</td>\n",
       "      <td>0</td>\n",
       "      <td>0</td>\n",
       "      <td>0</td>\n",
       "      <td>1</td>\n",
       "      <td>0.076201</td>\n",
       "      <td>0</td>\n",
       "      <td>0</td>\n",
       "      <td>0</td>\n",
       "      <td>0</td>\n",
       "    </tr>\n",
       "  </tbody>\n",
       "</table>\n",
       "</div>"
      ],
      "text/plain": [
       "                 ID  Readmit  ER  LOS  Age    HCC  Gender_M  Race_Hispanic  \\\n",
       "0  0005EC02F1DC3A15        0   0    3   71  1.631         1              0   \n",
       "1  0005EC02F1DC3A15        0   0    2   71  1.631         1              0   \n",
       "2  0006C4369B0D7B5F        0   0    2   68  0.585         1              0   \n",
       "3  000960C9E1C43BE4        0   0   12   79  1.660         0              0   \n",
       "4  00098CF15837D918        0   0    4   91  1.768         1              0   \n",
       "\n",
       "   Race_Others  Race_White  DRG_Class_SURG  DRG_Class_UNGROUP  \\\n",
       "0            0           1               0                  0   \n",
       "1            0           1               1                  0   \n",
       "2            0           1               0                  0   \n",
       "3            0           1               1                  0   \n",
       "4            0           1               1                  0   \n",
       "\n",
       "   DRG_Comp_MedicalNoC  DRG_Comp_Other  DRG_Comp_SurgMCC.CC  DRG_Comp_SurgNoC  \\\n",
       "0                    0               0                    0                 0   \n",
       "1                    0               1                    0                 0   \n",
       "2                    1               0                    0                 0   \n",
       "3                    0               0                    0                 1   \n",
       "4                    0               0                    0                 1   \n",
       "\n",
       "      preds  preds1  Tx  Readmit1  subgroup  \n",
       "0  0.078859       0   0         0         0  \n",
       "1  0.088873       0   0         0         0  \n",
       "2  0.052369       0   0         0         0  \n",
       "3  0.082954       0   0         0         0  \n",
       "4  0.076201       0   0         0         0  "
      ]
     },
     "execution_count": 749,
     "metadata": {},
     "output_type": "execute_result"
    }
   ],
   "source": [
    "#pd.qcut(df1.preds, 5)\n",
    "\n",
    "mask = (df1.preds >= df1.preds.quantile(0.6)) & (df1.preds <= df1.preds.quantile(0.8))\n",
    "df1['subgroup'] = np.where((df1.preds >= df1.preds.quantile(0.6))&(df1.preds <= df1.preds.quantile(0.8)),1,0)\n",
    "df1.head()"
   ]
  },
  {
   "cell_type": "code",
   "execution_count": 659,
   "id": "1caf6edd",
   "metadata": {},
   "outputs": [
    {
     "data": {
      "text/html": [
       "<div>\n",
       "<style scoped>\n",
       "    .dataframe tbody tr th:only-of-type {\n",
       "        vertical-align: middle;\n",
       "    }\n",
       "\n",
       "    .dataframe tbody tr th {\n",
       "        vertical-align: top;\n",
       "    }\n",
       "\n",
       "    .dataframe thead th {\n",
       "        text-align: right;\n",
       "    }\n",
       "</style>\n",
       "<table border=\"1\" class=\"dataframe\">\n",
       "  <thead>\n",
       "    <tr style=\"text-align: right;\">\n",
       "      <th>preds1</th>\n",
       "      <th>0</th>\n",
       "      <th>1</th>\n",
       "    </tr>\n",
       "    <tr>\n",
       "      <th>Readmit</th>\n",
       "      <th></th>\n",
       "      <th></th>\n",
       "    </tr>\n",
       "  </thead>\n",
       "  <tbody>\n",
       "    <tr>\n",
       "      <th>0</th>\n",
       "      <td>57878</td>\n",
       "      <td>495</td>\n",
       "    </tr>\n",
       "    <tr>\n",
       "      <th>1</th>\n",
       "      <td>8006</td>\n",
       "      <td>403</td>\n",
       "    </tr>\n",
       "  </tbody>\n",
       "</table>\n",
       "</div>"
      ],
      "text/plain": [
       "preds1       0    1\n",
       "Readmit            \n",
       "0        57878  495\n",
       "1         8006  403"
      ]
     },
     "execution_count": 659,
     "metadata": {},
     "output_type": "execute_result"
    }
   ],
   "source": [
    "pd.crosstab(df1['Readmit'],df1['preds1'])"
   ]
  },
  {
   "cell_type": "code",
   "execution_count": 660,
   "id": "7c725d35",
   "metadata": {},
   "outputs": [
    {
     "data": {
      "text/plain": [
       "<Axes: xlabel='HCC', ylabel='preds'>"
      ]
     },
     "execution_count": 660,
     "metadata": {},
     "output_type": "execute_result"
    },
    {
     "data": {
      "image/png": "[encoded data removed]",
      "text/plain": [
       "<Figure size 640x480 with 1 Axes>"
      ]
     },
     "metadata": {},
     "output_type": "display_data"
    }
   ],
   "source": [
    "#df1['preds'].plot(kind='density', legend=True)\n",
    "sns.regplot(x='HCC', y='preds', data=df1, logistic=True, ci=None,\n",
    "           scatter_kws={'color': 'black'}, line_kws={'color': 'red'})"
   ]
  },
  {
   "cell_type": "code",
   "execution_count": 661,
   "id": "cfe5fa61",
   "metadata": {},
   "outputs": [
    {
     "data": {
      "text/plain": [
       "<Axes: xlabel='Readmit', ylabel='preds'>"
      ]
     },
     "execution_count": 661,
     "metadata": {},
     "output_type": "execute_result"
    },
    {
     "data": {
      "image/png": "[encoded data removed]",
      "text/plain": [
       "<Figure size 640x480 with 1 Axes>"
      ]
     },
     "metadata": {},
     "output_type": "display_data"
    }
   ],
   "source": [
    "sns.boxplot(x='Readmit', y='preds',data=df1)"
   ]
  },
  {
   "cell_type": "code",
   "execution_count": 662,
   "id": "586320b8",
   "metadata": {},
   "outputs": [
    {
     "data": {
      "text/plain": [
       "<Axes: xlabel='preds1', ylabel='HCC'>"
      ]
     },
     "execution_count": 662,
     "metadata": {},
     "output_type": "execute_result"
    },
    {
     "data": {
      "image/png": "[encoded data removed]",
      "text/plain": [
       "<Figure size 640x480 with 1 Axes>"
      ]
     },
     "metadata": {},
     "output_type": "display_data"
    }
   ],
   "source": [
    "sns.boxplot(x='preds1', y='HCC',data=df1)"
   ]
  },
  {
   "cell_type": "markdown",
   "id": "874a3eaf",
   "metadata": {},
   "source": [
    "## Create Treatment "
   ]
  },
  {
   "cell_type": "code",
   "execution_count": 663,
   "id": "703fe2cc",
   "metadata": {},
   "outputs": [],
   "source": [
    "# generate random floating point values\n",
    "from random import seed\n",
    "from random import random\n",
    "# seed random number generator\n",
    "seed(1)\n",
    "\n",
    "# Randomized Tx (20% of cohort)\n",
    "df1['Tx'] = [1 if np.random.rand()<0.2 else 0 for k in df1.index]"
   ]
  },
  {
   "cell_type": "code",
   "execution_count": 750,
   "id": "ba287cce",
   "metadata": {},
   "outputs": [],
   "source": [
    "# Tx Effect \n",
    "\n",
    "p = .4\n",
    "p1=.85\n",
    "q = .5\n",
    "\n",
    "# Define a lambda function to apply to each row of the DataFrame\n",
    "def generate_binary(row):\n",
    "    if row['Tx']*row['Readmit'] == 1:\n",
    "        if row['preds']==1:\n",
    "            return 1 - int(np.random.rand() < p1*q)\n",
    "        else:\n",
    "            return 1 - int(np.random.rand() < p*q)\n",
    "    else:\n",
    "        return row['Readmit']\n",
    "\n",
    "# Apply the lambda function to each row of the DataFrame to create a new column called 'binary_col'\n",
    "# Readmit1 after Tx impact\n",
    "df1['Readmit1'] = df1.apply(lambda row: generate_binary(row), axis=1)"
   ]
  },
  {
   "cell_type": "code",
   "execution_count": 754,
   "id": "18c7ae97",
   "metadata": {},
   "outputs": [
    {
     "data": {
      "text/html": [
       "<div>\n",
       "<style scoped>\n",
       "    .dataframe tbody tr th:only-of-type {\n",
       "        vertical-align: middle;\n",
       "    }\n",
       "\n",
       "    .dataframe tbody tr th {\n",
       "        vertical-align: top;\n",
       "    }\n",
       "\n",
       "    .dataframe thead th {\n",
       "        text-align: right;\n",
       "    }\n",
       "</style>\n",
       "<table border=\"1\" class=\"dataframe\">\n",
       "  <thead>\n",
       "    <tr style=\"text-align: right;\">\n",
       "      <th>Tx</th>\n",
       "      <th>0</th>\n",
       "      <th>1</th>\n",
       "    </tr>\n",
       "    <tr>\n",
       "      <th>Readmit</th>\n",
       "      <th></th>\n",
       "      <th></th>\n",
       "    </tr>\n",
       "  </thead>\n",
       "  <tbody>\n",
       "    <tr>\n",
       "      <th>0</th>\n",
       "      <td>46926</td>\n",
       "      <td>11447</td>\n",
       "    </tr>\n",
       "    <tr>\n",
       "      <th>1</th>\n",
       "      <td>6812</td>\n",
       "      <td>1597</td>\n",
       "    </tr>\n",
       "  </tbody>\n",
       "</table>\n",
       "</div>"
      ],
      "text/plain": [
       "Tx           0      1\n",
       "Readmit              \n",
       "0        46926  11447\n",
       "1         6812   1597"
      ]
     },
     "execution_count": 754,
     "metadata": {},
     "output_type": "execute_result"
    }
   ],
   "source": [
    "df1['Readmit'].value_counts()\n",
    "pd.crosstab(df1['Readmit'],df1['Tx'])"
   ]
  },
  {
   "cell_type": "code",
   "execution_count": 755,
   "id": "b3b80b30",
   "metadata": {},
   "outputs": [
    {
     "data": {
      "text/html": [
       "<div>\n",
       "<style scoped>\n",
       "    .dataframe tbody tr th:only-of-type {\n",
       "        vertical-align: middle;\n",
       "    }\n",
       "\n",
       "    .dataframe tbody tr th {\n",
       "        vertical-align: top;\n",
       "    }\n",
       "\n",
       "    .dataframe thead th {\n",
       "        text-align: right;\n",
       "    }\n",
       "</style>\n",
       "<table border=\"1\" class=\"dataframe\">\n",
       "  <thead>\n",
       "    <tr style=\"text-align: right;\">\n",
       "      <th>Tx</th>\n",
       "      <th>0</th>\n",
       "      <th>1</th>\n",
       "    </tr>\n",
       "    <tr>\n",
       "      <th>Readmit1</th>\n",
       "      <th></th>\n",
       "      <th></th>\n",
       "    </tr>\n",
       "  </thead>\n",
       "  <tbody>\n",
       "    <tr>\n",
       "      <th>0</th>\n",
       "      <td>46926</td>\n",
       "      <td>11765</td>\n",
       "    </tr>\n",
       "    <tr>\n",
       "      <th>1</th>\n",
       "      <td>6812</td>\n",
       "      <td>1279</td>\n",
       "    </tr>\n",
       "  </tbody>\n",
       "</table>\n",
       "</div>"
      ],
      "text/plain": [
       "Tx            0      1\n",
       "Readmit1              \n",
       "0         46926  11765\n",
       "1          6812   1279"
      ]
     },
     "execution_count": 755,
     "metadata": {},
     "output_type": "execute_result"
    }
   ],
   "source": [
    "pd.crosstab(df1['Readmit1'],df1['Tx'])"
   ]
  },
  {
   "cell_type": "markdown",
   "id": "4b60e38a",
   "metadata": {},
   "source": [
    "## Uplift Model"
   ]
  },
  {
   "cell_type": "markdown",
   "id": "8eb0885c",
   "metadata": {},
   "source": [
    "### 1. Constant Tx (ATE)"
   ]
  },
  {
   "cell_type": "code",
   "execution_count": 756,
   "id": "408c948b",
   "metadata": {},
   "outputs": [
    {
     "data": {
      "text/plain": [
       "Tx\n",
       "0    0.126763\n",
       "1    0.122432\n",
       "Name: Readmit, dtype: float64"
      ]
     },
     "execution_count": 756,
     "metadata": {},
     "output_type": "execute_result"
    }
   ],
   "source": [
    "df1.groupby('Tx')['Readmit'].mean()"
   ]
  },
  {
   "cell_type": "code",
   "execution_count": 757,
   "id": "d7e78605",
   "metadata": {},
   "outputs": [
    {
     "data": {
      "text/plain": [
       "Tx\n",
       "0    0.126763\n",
       "1    0.098053\n",
       "Name: Readmit1, dtype: float64"
      ]
     },
     "execution_count": 757,
     "metadata": {},
     "output_type": "execute_result"
    }
   ],
   "source": [
    "df1.groupby('Tx')['Readmit1'].mean()\n",
    "# diff impact = .024 (.12 readmits * .2 impact)"
   ]
  },
  {
   "cell_type": "code",
   "execution_count": 758,
   "id": "b8e40a6a",
   "metadata": {},
   "outputs": [
    {
     "data": {
      "text/plain": [
       "0.039"
      ]
     },
     "execution_count": 758,
     "metadata": {},
     "output_type": "execute_result"
    }
   ],
   "source": [
    ".12*.65*.5"
   ]
  },
  {
   "cell_type": "code",
   "execution_count": 777,
   "id": "be3b6179",
   "metadata": {},
   "outputs": [],
   "source": [
    "features = df1.drop(['Readmit','Readmit1','ID','preds','preds1'],axis=1)\n",
    "y = df1[['Readmit','Readmit1','subgroup']]"
   ]
  },
  {
   "cell_type": "code",
   "execution_count": 778,
   "id": "b371ca46",
   "metadata": {},
   "outputs": [],
   "source": [
    "from sklearn.model_selection import train_test_split\n",
    "\n",
    "#train, test = train_test_split(df1, test_size=0.3)\n",
    "x_train, x_test, y_train1, y_test1 = train_test_split(features, y, test_size=0.3, random_state=0)"
   ]
  },
  {
   "cell_type": "code",
   "execution_count": 779,
   "id": "4a7e113b",
   "metadata": {},
   "outputs": [],
   "source": [
    "y_train=y_train1.drop(['Readmit','subgroup'],axis=1)\n",
    "y_test=y_test1.drop(['Readmit','subgroup'],axis=1)"
   ]
  },
  {
   "cell_type": "code",
   "execution_count": 780,
   "id": "84c587cc",
   "metadata": {},
   "outputs": [],
   "source": [
    "# Initiate the light GBM model\n",
    "s_learner = LGBMRegressor()\n",
    "# Fit the model\n",
    "s_learner.fit(x_train, y_train);"
   ]
  },
  {
   "cell_type": "code",
   "execution_count": 781,
   "id": "a628bdd1",
   "metadata": {},
   "outputs": [],
   "source": [
    "# Set treatment value to 1\n",
    "with_treatment = x_test.assign(Tx = 1)\n",
    "# With treatment predictions\n",
    "with_treatment_predict = s_learner.predict(with_treatment)\n",
    "# Set treatment value to 0\n",
    "without_treatment = x_test.assign(Tx = 0)\n",
    "# With treatment predictions\n",
    "without_treatment_predict = s_learner.predict(without_treatment)"
   ]
  },
  {
   "cell_type": "code",
   "execution_count": 782,
   "id": "3b2e0df3",
   "metadata": {},
   "outputs": [],
   "source": [
    "x_train1 = x_train.drop(['Tx'],axis=1)\n",
    "x_test1 = x_test.drop(['Tx'],axis=1)"
   ]
  },
  {
   "cell_type": "code",
   "execution_count": 783,
   "id": "01f253a7",
   "metadata": {},
   "outputs": [
    {
     "data": {
      "text/html": [
       "<div>\n",
       "<style scoped>\n",
       "    .dataframe tbody tr th:only-of-type {\n",
       "        vertical-align: middle;\n",
       "    }\n",
       "\n",
       "    .dataframe tbody tr th {\n",
       "        vertical-align: top;\n",
       "    }\n",
       "\n",
       "    .dataframe thead th {\n",
       "        text-align: right;\n",
       "    }\n",
       "</style>\n",
       "<table border=\"1\" class=\"dataframe\">\n",
       "  <thead>\n",
       "    <tr style=\"text-align: right;\">\n",
       "      <th></th>\n",
       "      <th>ER</th>\n",
       "      <th>LOS</th>\n",
       "      <th>Age</th>\n",
       "      <th>HCC</th>\n",
       "      <th>Gender_M</th>\n",
       "      <th>Race_Hispanic</th>\n",
       "      <th>Race_Others</th>\n",
       "      <th>Race_White</th>\n",
       "      <th>DRG_Class_SURG</th>\n",
       "      <th>DRG_Class_UNGROUP</th>\n",
       "      <th>DRG_Comp_MedicalNoC</th>\n",
       "      <th>DRG_Comp_Other</th>\n",
       "      <th>DRG_Comp_SurgMCC.CC</th>\n",
       "      <th>DRG_Comp_SurgNoC</th>\n",
       "      <th>subgroup</th>\n",
       "    </tr>\n",
       "  </thead>\n",
       "  <tbody>\n",
       "    <tr>\n",
       "      <th>32380</th>\n",
       "      <td>0</td>\n",
       "      <td>6</td>\n",
       "      <td>73</td>\n",
       "      <td>2.392</td>\n",
       "      <td>0</td>\n",
       "      <td>0</td>\n",
       "      <td>0</td>\n",
       "      <td>1</td>\n",
       "      <td>1</td>\n",
       "      <td>0</td>\n",
       "      <td>0</td>\n",
       "      <td>0</td>\n",
       "      <td>0</td>\n",
       "      <td>1</td>\n",
       "      <td>1</td>\n",
       "    </tr>\n",
       "    <tr>\n",
       "      <th>31166</th>\n",
       "      <td>1</td>\n",
       "      <td>6</td>\n",
       "      <td>70</td>\n",
       "      <td>1.038</td>\n",
       "      <td>0</td>\n",
       "      <td>0</td>\n",
       "      <td>1</td>\n",
       "      <td>0</td>\n",
       "      <td>1</td>\n",
       "      <td>0</td>\n",
       "      <td>0</td>\n",
       "      <td>0</td>\n",
       "      <td>1</td>\n",
       "      <td>0</td>\n",
       "      <td>0</td>\n",
       "    </tr>\n",
       "    <tr>\n",
       "      <th>10877</th>\n",
       "      <td>1</td>\n",
       "      <td>4</td>\n",
       "      <td>77</td>\n",
       "      <td>0.552</td>\n",
       "      <td>0</td>\n",
       "      <td>0</td>\n",
       "      <td>0</td>\n",
       "      <td>0</td>\n",
       "      <td>1</td>\n",
       "      <td>0</td>\n",
       "      <td>0</td>\n",
       "      <td>0</td>\n",
       "      <td>1</td>\n",
       "      <td>0</td>\n",
       "      <td>0</td>\n",
       "    </tr>\n",
       "    <tr>\n",
       "      <th>10322</th>\n",
       "      <td>0</td>\n",
       "      <td>1</td>\n",
       "      <td>85</td>\n",
       "      <td>1.018</td>\n",
       "      <td>1</td>\n",
       "      <td>0</td>\n",
       "      <td>0</td>\n",
       "      <td>1</td>\n",
       "      <td>1</td>\n",
       "      <td>0</td>\n",
       "      <td>0</td>\n",
       "      <td>0</td>\n",
       "      <td>1</td>\n",
       "      <td>0</td>\n",
       "      <td>0</td>\n",
       "    </tr>\n",
       "    <tr>\n",
       "      <th>22199</th>\n",
       "      <td>0</td>\n",
       "      <td>4</td>\n",
       "      <td>82</td>\n",
       "      <td>2.369</td>\n",
       "      <td>1</td>\n",
       "      <td>0</td>\n",
       "      <td>0</td>\n",
       "      <td>1</td>\n",
       "      <td>1</td>\n",
       "      <td>0</td>\n",
       "      <td>0</td>\n",
       "      <td>0</td>\n",
       "      <td>1</td>\n",
       "      <td>0</td>\n",
       "      <td>0</td>\n",
       "    </tr>\n",
       "  </tbody>\n",
       "</table>\n",
       "</div>"
      ],
      "text/plain": [
       "       ER  LOS  Age    HCC  Gender_M  Race_Hispanic  Race_Others  Race_White  \\\n",
       "32380   0    6   73  2.392         0              0            0           1   \n",
       "31166   1    6   70  1.038         0              0            1           0   \n",
       "10877   1    4   77  0.552         0              0            0           0   \n",
       "10322   0    1   85  1.018         1              0            0           1   \n",
       "22199   0    4   82  2.369         1              0            0           1   \n",
       "\n",
       "       DRG_Class_SURG  DRG_Class_UNGROUP  DRG_Comp_MedicalNoC  DRG_Comp_Other  \\\n",
       "32380               1                  0                    0               0   \n",
       "31166               1                  0                    0               0   \n",
       "10877               1                  0                    0               0   \n",
       "10322               1                  0                    0               0   \n",
       "22199               1                  0                    0               0   \n",
       "\n",
       "       DRG_Comp_SurgMCC.CC  DRG_Comp_SurgNoC  subgroup  \n",
       "32380                    0                 1         1  \n",
       "31166                    1                 0         0  \n",
       "10877                    1                 0         0  \n",
       "10322                    1                 0         0  \n",
       "22199                    1                 0         0  "
      ]
     },
     "execution_count": 783,
     "metadata": {},
     "output_type": "execute_result"
    }
   ],
   "source": [
    "x_train1.head()"
   ]
  },
  {
   "cell_type": "code",
   "execution_count": 784,
   "id": "0bd0eef1",
   "metadata": {},
   "outputs": [],
   "source": [
    "# Initiate the light GBM model\n",
    "s_learner1 = LGBMRegressor()\n",
    "# Fit the model\n",
    "s_learner1.fit(x_train1, y_train);"
   ]
  },
  {
   "cell_type": "code",
   "execution_count": 785,
   "id": "7b16b32b",
   "metadata": {},
   "outputs": [],
   "source": [
    "preds = s_learner1.predict(x_test1)"
   ]
  },
  {
   "cell_type": "code",
   "execution_count": 786,
   "id": "ad7e2507",
   "metadata": {},
   "outputs": [
    {
     "data": {
      "text/plain": [
       "(20035, 16)"
      ]
     },
     "execution_count": 786,
     "metadata": {},
     "output_type": "execute_result"
    }
   ],
   "source": [
    "x_test.shape"
   ]
  },
  {
   "cell_type": "code",
   "execution_count": null,
   "id": "733f5893",
   "metadata": {},
   "outputs": [],
   "source": []
  },
  {
   "cell_type": "code",
   "execution_count": 792,
   "id": "c0f6077d",
   "metadata": {},
   "outputs": [
    {
     "data": {
      "text/html": [
       "<div>\n",
       "<style scoped>\n",
       "    .dataframe tbody tr th:only-of-type {\n",
       "        vertical-align: middle;\n",
       "    }\n",
       "\n",
       "    .dataframe tbody tr th {\n",
       "        vertical-align: top;\n",
       "    }\n",
       "\n",
       "    .dataframe thead th {\n",
       "        text-align: right;\n",
       "    }\n",
       "</style>\n",
       "<table border=\"1\" class=\"dataframe\">\n",
       "  <thead>\n",
       "    <tr style=\"text-align: right;\">\n",
       "      <th></th>\n",
       "      <th>ITE</th>\n",
       "      <th>with_treatment_predict</th>\n",
       "      <th>without_treatment_predict</th>\n",
       "      <th>pred</th>\n",
       "      <th>Readmit</th>\n",
       "      <th>Readmit1</th>\n",
       "      <th>Tx</th>\n",
       "      <th>Subgroup</th>\n",
       "    </tr>\n",
       "  </thead>\n",
       "  <tbody>\n",
       "    <tr>\n",
       "      <th>24869</th>\n",
       "      <td>0.017350</td>\n",
       "      <td>0.725859</td>\n",
       "      <td>0.708509</td>\n",
       "      <td>0.793091</td>\n",
       "      <td>0</td>\n",
       "      <td>0</td>\n",
       "      <td>0</td>\n",
       "      <td>0</td>\n",
       "    </tr>\n",
       "    <tr>\n",
       "      <th>9741</th>\n",
       "      <td>-0.026666</td>\n",
       "      <td>0.751205</td>\n",
       "      <td>0.777871</td>\n",
       "      <td>0.771320</td>\n",
       "      <td>1</td>\n",
       "      <td>1</td>\n",
       "      <td>0</td>\n",
       "      <td>0</td>\n",
       "    </tr>\n",
       "    <tr>\n",
       "      <th>65439</th>\n",
       "      <td>-0.033334</td>\n",
       "      <td>0.695267</td>\n",
       "      <td>0.728601</td>\n",
       "      <td>0.769929</td>\n",
       "      <td>1</td>\n",
       "      <td>1</td>\n",
       "      <td>1</td>\n",
       "      <td>0</td>\n",
       "    </tr>\n",
       "    <tr>\n",
       "      <th>34329</th>\n",
       "      <td>-0.094707</td>\n",
       "      <td>0.641852</td>\n",
       "      <td>0.736560</td>\n",
       "      <td>0.743597</td>\n",
       "      <td>1</td>\n",
       "      <td>1</td>\n",
       "      <td>0</td>\n",
       "      <td>0</td>\n",
       "    </tr>\n",
       "    <tr>\n",
       "      <th>902</th>\n",
       "      <td>-0.021061</td>\n",
       "      <td>0.639033</td>\n",
       "      <td>0.660094</td>\n",
       "      <td>0.739030</td>\n",
       "      <td>1</td>\n",
       "      <td>1</td>\n",
       "      <td>0</td>\n",
       "      <td>0</td>\n",
       "    </tr>\n",
       "    <tr>\n",
       "      <th>54995</th>\n",
       "      <td>-0.038051</td>\n",
       "      <td>0.610687</td>\n",
       "      <td>0.648738</td>\n",
       "      <td>0.717417</td>\n",
       "      <td>1</td>\n",
       "      <td>1</td>\n",
       "      <td>0</td>\n",
       "      <td>0</td>\n",
       "    </tr>\n",
       "    <tr>\n",
       "      <th>54112</th>\n",
       "      <td>-0.038147</td>\n",
       "      <td>0.602990</td>\n",
       "      <td>0.641137</td>\n",
       "      <td>0.712228</td>\n",
       "      <td>0</td>\n",
       "      <td>0</td>\n",
       "      <td>0</td>\n",
       "      <td>0</td>\n",
       "    </tr>\n",
       "    <tr>\n",
       "      <th>25218</th>\n",
       "      <td>-0.097465</td>\n",
       "      <td>0.579939</td>\n",
       "      <td>0.677405</td>\n",
       "      <td>0.710470</td>\n",
       "      <td>0</td>\n",
       "      <td>0</td>\n",
       "      <td>0</td>\n",
       "      <td>0</td>\n",
       "    </tr>\n",
       "    <tr>\n",
       "      <th>23770</th>\n",
       "      <td>-0.016044</td>\n",
       "      <td>0.659056</td>\n",
       "      <td>0.675100</td>\n",
       "      <td>0.689294</td>\n",
       "      <td>1</td>\n",
       "      <td>1</td>\n",
       "      <td>0</td>\n",
       "      <td>0</td>\n",
       "    </tr>\n",
       "    <tr>\n",
       "      <th>17958</th>\n",
       "      <td>-0.150547</td>\n",
       "      <td>0.471582</td>\n",
       "      <td>0.622129</td>\n",
       "      <td>0.673568</td>\n",
       "      <td>0</td>\n",
       "      <td>0</td>\n",
       "      <td>0</td>\n",
       "      <td>0</td>\n",
       "    </tr>\n",
       "  </tbody>\n",
       "</table>\n",
       "</div>"
      ],
      "text/plain": [
       "            ITE  with_treatment_predict  without_treatment_predict      pred  \\\n",
       "24869  0.017350                0.725859                   0.708509  0.793091   \n",
       "9741  -0.026666                0.751205                   0.777871  0.771320   \n",
       "65439 -0.033334                0.695267                   0.728601  0.769929   \n",
       "34329 -0.094707                0.641852                   0.736560  0.743597   \n",
       "902   -0.021061                0.639033                   0.660094  0.739030   \n",
       "54995 -0.038051                0.610687                   0.648738  0.717417   \n",
       "54112 -0.038147                0.602990                   0.641137  0.712228   \n",
       "25218 -0.097465                0.579939                   0.677405  0.710470   \n",
       "23770 -0.016044                0.659056                   0.675100  0.689294   \n",
       "17958 -0.150547                0.471582                   0.622129  0.673568   \n",
       "\n",
       "       Readmit  Readmit1  Tx  Subgroup  \n",
       "24869        0         0   0         0  \n",
       "9741         1         1   0         0  \n",
       "65439        1         1   1         0  \n",
       "34329        1         1   0         0  \n",
       "902          1         1   0         0  \n",
       "54995        1         1   0         0  \n",
       "54112        0         0   0         0  \n",
       "25218        0         0   0         0  \n",
       "23770        1         1   0         0  \n",
       "17958        0         0   0         0  "
      ]
     },
     "execution_count": 792,
     "metadata": {},
     "output_type": "execute_result"
    }
   ],
   "source": [
    "# ITE\n",
    "ite = with_treatment_predict - without_treatment_predict\n",
    "# Save ITE data in a pandas dataframe\n",
    "ite_df = pd.DataFrame({'ITE': ite, 'with_treatment_predict':with_treatment_predict, \n",
    "                       'without_treatment_predict': without_treatment_predict,\n",
    "                       'pred':preds,\n",
    "                       'Readmit':y_test1.Readmit,\n",
    "                       'Readmit1':y_test1.Readmit1,\n",
    "                       'Tx':x_test.Tx,\n",
    "                       'Subgroup':y_test1.subgroup})\n",
    "# Take a look at the data\n",
    "ite_df.sort_values(by='pred',ascending=False).head(10)"
   ]
  },
  {
   "cell_type": "code",
   "execution_count": 805,
   "id": "91bb4453",
   "metadata": {},
   "outputs": [],
   "source": [
    "# Preds \n",
    "ite_df['pred_bin'] = pd.qcut(ite_df.pred, 10)\n",
    "\n",
    "# ITE\n",
    "ite_df['pred_bin'] = pd.qcut(ite_df.ITE, 10)"
   ]
  },
  {
   "cell_type": "code",
   "execution_count": 806,
   "id": "a9af6cc2",
   "metadata": {},
   "outputs": [
    {
     "data": {
      "text/html": [
       "<div>\n",
       "<style scoped>\n",
       "    .dataframe tbody tr th:only-of-type {\n",
       "        vertical-align: middle;\n",
       "    }\n",
       "\n",
       "    .dataframe tbody tr th {\n",
       "        vertical-align: top;\n",
       "    }\n",
       "\n",
       "    .dataframe thead th {\n",
       "        text-align: right;\n",
       "    }\n",
       "</style>\n",
       "<table border=\"1\" class=\"dataframe\">\n",
       "  <thead>\n",
       "    <tr style=\"text-align: right;\">\n",
       "      <th></th>\n",
       "      <th>ITE</th>\n",
       "      <th>with_treatment_predict</th>\n",
       "      <th>without_treatment_predict</th>\n",
       "      <th>pred</th>\n",
       "      <th>Readmit</th>\n",
       "      <th>Readmit1</th>\n",
       "      <th>Tx</th>\n",
       "      <th>Subgroup</th>\n",
       "      <th>pred_bin</th>\n",
       "    </tr>\n",
       "  </thead>\n",
       "  <tbody>\n",
       "    <tr>\n",
       "      <th>66684</th>\n",
       "      <td>-0.057690</td>\n",
       "      <td>0.124563</td>\n",
       "      <td>0.182254</td>\n",
       "      <td>0.178197</td>\n",
       "      <td>0</td>\n",
       "      <td>0</td>\n",
       "      <td>0</td>\n",
       "      <td>1</td>\n",
       "      <td>(-0.0626, -0.0472]</td>\n",
       "    </tr>\n",
       "    <tr>\n",
       "      <th>6856</th>\n",
       "      <td>-0.029151</td>\n",
       "      <td>0.095181</td>\n",
       "      <td>0.124333</td>\n",
       "      <td>0.123880</td>\n",
       "      <td>0</td>\n",
       "      <td>0</td>\n",
       "      <td>0</td>\n",
       "      <td>0</td>\n",
       "      <td>(-0.0355, -0.0251]</td>\n",
       "    </tr>\n",
       "    <tr>\n",
       "      <th>32334</th>\n",
       "      <td>-0.042532</td>\n",
       "      <td>0.094274</td>\n",
       "      <td>0.136807</td>\n",
       "      <td>0.128631</td>\n",
       "      <td>0</td>\n",
       "      <td>0</td>\n",
       "      <td>0</td>\n",
       "      <td>1</td>\n",
       "      <td>(-0.0472, -0.0355]</td>\n",
       "    </tr>\n",
       "    <tr>\n",
       "      <th>56214</th>\n",
       "      <td>-0.010244</td>\n",
       "      <td>0.056705</td>\n",
       "      <td>0.066949</td>\n",
       "      <td>0.066528</td>\n",
       "      <td>0</td>\n",
       "      <td>0</td>\n",
       "      <td>1</td>\n",
       "      <td>0</td>\n",
       "      <td>(-0.011, -0.00853]</td>\n",
       "    </tr>\n",
       "    <tr>\n",
       "      <th>39403</th>\n",
       "      <td>-0.038631</td>\n",
       "      <td>0.197560</td>\n",
       "      <td>0.236191</td>\n",
       "      <td>0.245601</td>\n",
       "      <td>1</td>\n",
       "      <td>1</td>\n",
       "      <td>0</td>\n",
       "      <td>0</td>\n",
       "      <td>(-0.0472, -0.0355]</td>\n",
       "    </tr>\n",
       "  </tbody>\n",
       "</table>\n",
       "</div>"
      ],
      "text/plain": [
       "            ITE  with_treatment_predict  without_treatment_predict      pred  \\\n",
       "66684 -0.057690                0.124563                   0.182254  0.178197   \n",
       "6856  -0.029151                0.095181                   0.124333  0.123880   \n",
       "32334 -0.042532                0.094274                   0.136807  0.128631   \n",
       "56214 -0.010244                0.056705                   0.066949  0.066528   \n",
       "39403 -0.038631                0.197560                   0.236191  0.245601   \n",
       "\n",
       "       Readmit  Readmit1  Tx  Subgroup            pred_bin  \n",
       "66684        0         0   0         1  (-0.0626, -0.0472]  \n",
       "6856         0         0   0         0  (-0.0355, -0.0251]  \n",
       "32334        0         0   0         1  (-0.0472, -0.0355]  \n",
       "56214        0         0   1         0  (-0.011, -0.00853]  \n",
       "39403        1         1   0         0  (-0.0472, -0.0355]  "
      ]
     },
     "execution_count": 806,
     "metadata": {},
     "output_type": "execute_result"
    }
   ],
   "source": [
    "ite_df.head()"
   ]
  },
  {
   "cell_type": "code",
   "execution_count": 807,
   "id": "50b99210",
   "metadata": {},
   "outputs": [],
   "source": [
    "#ite_df[ite_df.ITE>0].sort_values(by='pred',ascending=False).head()"
   ]
  },
  {
   "cell_type": "code",
   "execution_count": 808,
   "id": "cf9aac3b",
   "metadata": {},
   "outputs": [
    {
     "data": {
      "text/html": [
       "<div>\n",
       "<style scoped>\n",
       "    .dataframe tbody tr th:only-of-type {\n",
       "        vertical-align: middle;\n",
       "    }\n",
       "\n",
       "    .dataframe tbody tr th {\n",
       "        vertical-align: top;\n",
       "    }\n",
       "\n",
       "    .dataframe thead th {\n",
       "        text-align: right;\n",
       "    }\n",
       "</style>\n",
       "<table border=\"1\" class=\"dataframe\">\n",
       "  <thead>\n",
       "    <tr style=\"text-align: right;\">\n",
       "      <th></th>\n",
       "      <th>pred_bin</th>\n",
       "      <th>pred</th>\n",
       "      <th>ITE</th>\n",
       "      <th>Readmit</th>\n",
       "      <th>Readmit1</th>\n",
       "      <th>Subgroup</th>\n",
       "      <th>diff</th>\n",
       "    </tr>\n",
       "  </thead>\n",
       "  <tbody>\n",
       "    <tr>\n",
       "      <th>0</th>\n",
       "      <td>(-0.374, -0.0626]</td>\n",
       "      <td>0.261517</td>\n",
       "      <td>-0.095320</td>\n",
       "      <td>0.280439</td>\n",
       "      <td>0.271457</td>\n",
       "      <td>307</td>\n",
       "      <td>0.008982</td>\n",
       "    </tr>\n",
       "    <tr>\n",
       "      <th>1</th>\n",
       "      <td>(-0.0626, -0.0472]</td>\n",
       "      <td>0.197057</td>\n",
       "      <td>-0.054023</td>\n",
       "      <td>0.197211</td>\n",
       "      <td>0.190239</td>\n",
       "      <td>1248</td>\n",
       "      <td>0.006972</td>\n",
       "    </tr>\n",
       "    <tr>\n",
       "      <th>2</th>\n",
       "      <td>(-0.0472, -0.0355]</td>\n",
       "      <td>0.157181</td>\n",
       "      <td>-0.040362</td>\n",
       "      <td>0.174447</td>\n",
       "      <td>0.165111</td>\n",
       "      <td>1127</td>\n",
       "      <td>0.009337</td>\n",
       "    </tr>\n",
       "    <tr>\n",
       "      <th>3</th>\n",
       "      <td>(-0.0355, -0.0251]</td>\n",
       "      <td>0.143483</td>\n",
       "      <td>-0.030001</td>\n",
       "      <td>0.159126</td>\n",
       "      <td>0.150991</td>\n",
       "      <td>590</td>\n",
       "      <td>0.008134</td>\n",
       "    </tr>\n",
       "    <tr>\n",
       "      <th>4</th>\n",
       "      <td>(-0.0251, -0.0149]</td>\n",
       "      <td>0.102667</td>\n",
       "      <td>-0.017921</td>\n",
       "      <td>0.101679</td>\n",
       "      <td>0.098321</td>\n",
       "      <td>237</td>\n",
       "      <td>0.003357</td>\n",
       "    </tr>\n",
       "    <tr>\n",
       "      <th>5</th>\n",
       "      <td>(-0.0149, -0.011]</td>\n",
       "      <td>0.074351</td>\n",
       "      <td>-0.012855</td>\n",
       "      <td>0.073960</td>\n",
       "      <td>0.069851</td>\n",
       "      <td>73</td>\n",
       "      <td>0.004109</td>\n",
       "    </tr>\n",
       "    <tr>\n",
       "      <th>6</th>\n",
       "      <td>(-0.011, -0.00853]</td>\n",
       "      <td>0.053391</td>\n",
       "      <td>-0.009860</td>\n",
       "      <td>0.049058</td>\n",
       "      <td>0.047572</td>\n",
       "      <td>44</td>\n",
       "      <td>0.001487</td>\n",
       "    </tr>\n",
       "    <tr>\n",
       "      <th>7</th>\n",
       "      <td>(-0.00853, -0.00574]</td>\n",
       "      <td>0.041122</td>\n",
       "      <td>-0.007393</td>\n",
       "      <td>0.037487</td>\n",
       "      <td>0.036981</td>\n",
       "      <td>49</td>\n",
       "      <td>0.000507</td>\n",
       "    </tr>\n",
       "    <tr>\n",
       "      <th>8</th>\n",
       "      <td>(-0.00574, -0.00113]</td>\n",
       "      <td>0.037535</td>\n",
       "      <td>-0.004076</td>\n",
       "      <td>0.036628</td>\n",
       "      <td>0.036126</td>\n",
       "      <td>56</td>\n",
       "      <td>0.000502</td>\n",
       "    </tr>\n",
       "    <tr>\n",
       "      <th>9</th>\n",
       "      <td>(-0.00113, 0.177]</td>\n",
       "      <td>0.141593</td>\n",
       "      <td>0.020482</td>\n",
       "      <td>0.134232</td>\n",
       "      <td>0.128743</td>\n",
       "      <td>247</td>\n",
       "      <td>0.005489</td>\n",
       "    </tr>\n",
       "  </tbody>\n",
       "</table>\n",
       "</div>"
      ],
      "text/plain": [
       "               pred_bin      pred       ITE   Readmit  Readmit1  Subgroup  \\\n",
       "0     (-0.374, -0.0626]  0.261517 -0.095320  0.280439  0.271457       307   \n",
       "1    (-0.0626, -0.0472]  0.197057 -0.054023  0.197211  0.190239      1248   \n",
       "2    (-0.0472, -0.0355]  0.157181 -0.040362  0.174447  0.165111      1127   \n",
       "3    (-0.0355, -0.0251]  0.143483 -0.030001  0.159126  0.150991       590   \n",
       "4    (-0.0251, -0.0149]  0.102667 -0.017921  0.101679  0.098321       237   \n",
       "5     (-0.0149, -0.011]  0.074351 -0.012855  0.073960  0.069851        73   \n",
       "6    (-0.011, -0.00853]  0.053391 -0.009860  0.049058  0.047572        44   \n",
       "7  (-0.00853, -0.00574]  0.041122 -0.007393  0.037487  0.036981        49   \n",
       "8  (-0.00574, -0.00113]  0.037535 -0.004076  0.036628  0.036126        56   \n",
       "9     (-0.00113, 0.177]  0.141593  0.020482  0.134232  0.128743       247   \n",
       "\n",
       "       diff  \n",
       "0  0.008982  \n",
       "1  0.006972  \n",
       "2  0.009337  \n",
       "3  0.008134  \n",
       "4  0.003357  \n",
       "5  0.004109  \n",
       "6  0.001487  \n",
       "7  0.000507  \n",
       "8  0.000502  \n",
       "9  0.005489  "
      ]
     },
     "execution_count": 808,
     "metadata": {},
     "output_type": "execute_result"
    }
   ],
   "source": [
    "df = ite_df.groupby('pred_bin').agg({'pred':'mean','ITE':'mean','Readmit':'mean','Readmit1':'mean','Subgroup':'sum'}).reset_index()\n",
    "df['diff'] = df.Readmit - df.Readmit1\n",
    "df"
   ]
  },
  {
   "cell_type": "code",
   "execution_count": 800,
   "id": "7a4488b6",
   "metadata": {
    "scrolled": false
   },
   "outputs": [
    {
     "data": {
      "image/png": "[encoded data removed]",
      "text/plain": [
       "<Figure size 640x480 with 1 Axes>"
      ]
     },
     "metadata": {},
     "output_type": "display_data"
    }
   ],
   "source": [
    "#df.plot(x='pred_bin', y=['pred','-ITE'])\n",
    "plt.plot(df['ITE'].apply(lambda x: x if x > 0 else -x))\n",
    "plt.plot(df['pred'])\n",
    "plt.show()"
   ]
  },
  {
   "cell_type": "code",
   "execution_count": null,
   "id": "e9d99f3b",
   "metadata": {},
   "outputs": [],
   "source": []
  },
  {
   "cell_type": "code",
   "execution_count": 722,
   "id": "1a95f3c0",
   "metadata": {},
   "outputs": [
    {
     "data": {
      "text/plain": [
       "array([[<Axes: title={'center': 'ITE'}>]], dtype=object)"
      ]
     },
     "execution_count": 722,
     "metadata": {},
     "output_type": "execute_result"
    },
    {
     "data": {
      "image/png": "[encoded data removed]",
      "text/plain": [
       "<Figure size 1200x800 with 1 Axes>"
      ]
     },
     "metadata": {},
     "output_type": "display_data"
    }
   ],
   "source": [
    "# visualization\n",
    "ite_df.hist(column ='ITE', bins=50, grid=True, figsize=(12, 8))"
   ]
  },
  {
   "cell_type": "code",
   "execution_count": 723,
   "id": "fdb5ff46",
   "metadata": {},
   "outputs": [
    {
     "data": {
      "text/plain": [
       "-0.02384988795584058"
      ]
     },
     "execution_count": 723,
     "metadata": {},
     "output_type": "execute_result"
    }
   ],
   "source": [
    "# Calculate ATE\n",
    "ATE = ite.mean()\n",
    "ATE"
   ]
  },
  {
   "cell_type": "code",
   "execution_count": null,
   "id": "261abcc3",
   "metadata": {},
   "outputs": [],
   "source": []
  },
  {
   "cell_type": "code",
   "execution_count": null,
   "id": "aeb52391",
   "metadata": {},
   "outputs": [],
   "source": []
  },
  {
   "cell_type": "code",
   "execution_count": null,
   "id": "65232d1f",
   "metadata": {},
   "outputs": [],
   "source": []
  },
  {
   "cell_type": "markdown",
   "id": "e3ed1e66",
   "metadata": {},
   "source": [
    "### 2. based on propensity/HCC (CATE)"
   ]
  },
  {
   "cell_type": "code",
   "execution_count": null,
   "id": "ff7c9bcb",
   "metadata": {},
   "outputs": [],
   "source": []
  },
  {
   "cell_type": "code",
   "execution_count": null,
   "id": "e1a9f5ac",
   "metadata": {},
   "outputs": [],
   "source": []
  },
  {
   "cell_type": "code",
   "execution_count": null,
   "id": "5dd12e36",
   "metadata": {},
   "outputs": [],
   "source": []
  },
  {
   "cell_type": "code",
   "execution_count": null,
   "id": "7f881c50",
   "metadata": {},
   "outputs": [],
   "source": []
  },
  {
   "cell_type": "code",
   "execution_count": null,
   "id": "5fa8b0ad",
   "metadata": {},
   "outputs": [],
   "source": []
  },
  {
   "cell_type": "code",
   "execution_count": null,
   "id": "aaee27e3",
   "metadata": {},
   "outputs": [],
   "source": []
  },
  {
   "cell_type": "code",
   "execution_count": null,
   "id": "424c4dbc",
   "metadata": {},
   "outputs": [],
   "source": []
  }
 ],
 "metadata": {
  "kernelspec": {
   "display_name": "Python 3 (ipykernel)",
   "language": "python",
   "name": "python3"
  },
  "language_info": {
   "codemirror_mode": {
    "name": "ipython",
    "version": 3
   },
   "file_extension": ".py",
   "mimetype": "text/x-python",
   "name": "python",
   "nbconvert_exporter": "python",
   "pygments_lexer": "ipython3",
   "version": "3.9.13"
  }
 },
 "nbformat": 4,
 "nbformat_minor": 5
}

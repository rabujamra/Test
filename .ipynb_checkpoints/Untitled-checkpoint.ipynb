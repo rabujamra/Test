{
 "cells": [
  {
   "cell_type": "code",
   "execution_count": 1,
   "id": "eda13d16",
   "metadata": {},
   "outputs": [
    {
     "name": "stderr",
     "output_type": "stream",
     "text": [
      "Failed to import duecredit due to No module named 'duecredit'\n"
     ]
    }
   ],
   "source": [
    "# Data processing\n",
    "import pandas as pd\n",
    "import numpy as np\n",
    "# Create synthetic data\n",
    "from causalml.dataset import synthetic_data\n"
   ]
  },
  {
   "cell_type": "code",
   "execution_count": 2,
   "id": "2d16cf0b",
   "metadata": {},
   "outputs": [],
   "source": [
    "# Visualization\n",
    "import seaborn as sns\n",
    "# Machine learning model\n",
    "from lightgbm import LGBMRegressor"
   ]
  },
  {
   "cell_type": "code",
   "execution_count": 3,
   "id": "69c268a8",
   "metadata": {},
   "outputs": [],
   "source": [
    "#conda install -c conda-forge causalml"
   ]
  },
  {
   "cell_type": "code",
   "execution_count": 4,
   "id": "4d97c5ce",
   "metadata": {},
   "outputs": [
    {
     "data": {
      "text/plain": [
       "1    512\n",
       "0    488\n",
       "Name: treatment, dtype: int64"
      ]
     },
     "execution_count": 4,
     "metadata": {},
     "output_type": "execute_result"
    }
   ],
   "source": [
    "# Set a seed for reproducibility\n",
    "np.random.seed(42)\n",
    "# Create a synthetic dataset\n",
    "y, X, treatment, _, _, _ = synthetic_data(mode=1, n=1000, p=5, sigma=1.0)\n",
    "# Save the data in a pandas dataframe\n",
    "df = pd.DataFrame({'y': y, 'X1': X.T[0], 'X2': X.T[1], 'X3': X.T[2], 'X4': X.T[3], 'X5': X.T[4], 'treatment': treatment})\n",
    "# Check treatment\n",
    "df['treatment'].value_counts()"
   ]
  },
  {
   "cell_type": "code",
   "execution_count": 5,
   "id": "8a9df5a8",
   "metadata": {},
   "outputs": [],
   "source": [
    "# Features\n",
    "features = df.loc[:, ['X1', 'X2', 'X3', 'X4', 'X5', 'treatment']]\n",
    "# Dependent variable\n",
    "y = df.loc[:, ['y']]"
   ]
  },
  {
   "cell_type": "code",
   "execution_count": 6,
   "id": "14bafa80",
   "metadata": {},
   "outputs": [],
   "source": [
    "# Initiate the light GBM model\n",
    "s_learner = LGBMRegressor()\n",
    "# Fit the model\n",
    "s_learner.fit(features, y);"
   ]
  },
  {
   "cell_type": "code",
   "execution_count": 7,
   "id": "5a20afa8",
   "metadata": {},
   "outputs": [],
   "source": [
    "# Set treatment value to 1\n",
    "with_treatment = features.assign(treatment = 1)\n",
    "# With treatment predictions\n",
    "with_treatment_predict = s_learner.predict(with_treatment)\n",
    "# Set treatment value to 0\n",
    "without_treatment = features.assign(treatment = 0)\n",
    "# With treatment predictions\n",
    "without_treatment_predict = s_learner.predict(without_treatment)"
   ]
  },
  {
   "cell_type": "code",
   "execution_count": 8,
   "id": "2f9eacd8",
   "metadata": {},
   "outputs": [
    {
     "data": {
      "text/html": [
       "<div>\n",
       "<style scoped>\n",
       "    .dataframe tbody tr th:only-of-type {\n",
       "        vertical-align: middle;\n",
       "    }\n",
       "\n",
       "    .dataframe tbody tr th {\n",
       "        vertical-align: top;\n",
       "    }\n",
       "\n",
       "    .dataframe thead th {\n",
       "        text-align: right;\n",
       "    }\n",
       "</style>\n",
       "<table border=\"1\" class=\"dataframe\">\n",
       "  <thead>\n",
       "    <tr style=\"text-align: right;\">\n",
       "      <th></th>\n",
       "      <th>ITE</th>\n",
       "      <th>with_treatment_predict</th>\n",
       "      <th>without_treatment_predict</th>\n",
       "    </tr>\n",
       "  </thead>\n",
       "  <tbody>\n",
       "    <tr>\n",
       "      <th>0</th>\n",
       "      <td>-0.022509</td>\n",
       "      <td>0.935674</td>\n",
       "      <td>0.958183</td>\n",
       "    </tr>\n",
       "    <tr>\n",
       "      <th>1</th>\n",
       "      <td>-0.560047</td>\n",
       "      <td>0.867569</td>\n",
       "      <td>1.427616</td>\n",
       "    </tr>\n",
       "    <tr>\n",
       "      <th>2</th>\n",
       "      <td>-0.150755</td>\n",
       "      <td>0.667450</td>\n",
       "      <td>0.818205</td>\n",
       "    </tr>\n",
       "    <tr>\n",
       "      <th>3</th>\n",
       "      <td>0.207543</td>\n",
       "      <td>1.372787</td>\n",
       "      <td>1.165244</td>\n",
       "    </tr>\n",
       "    <tr>\n",
       "      <th>4</th>\n",
       "      <td>0.134130</td>\n",
       "      <td>0.366198</td>\n",
       "      <td>0.232068</td>\n",
       "    </tr>\n",
       "  </tbody>\n",
       "</table>\n",
       "</div>"
      ],
      "text/plain": [
       "        ITE  with_treatment_predict  without_treatment_predict\n",
       "0 -0.022509                0.935674                   0.958183\n",
       "1 -0.560047                0.867569                   1.427616\n",
       "2 -0.150755                0.667450                   0.818205\n",
       "3  0.207543                1.372787                   1.165244\n",
       "4  0.134130                0.366198                   0.232068"
      ]
     },
     "execution_count": 8,
     "metadata": {},
     "output_type": "execute_result"
    }
   ],
   "source": [
    "# ITE\n",
    "ite = with_treatment_predict - without_treatment_predict\n",
    "# Save ITE data in a pandas dataframe\n",
    "ite_df = pd.DataFrame({'ITE': ite, 'with_treatment_predict':with_treatment_predict, 'without_treatment_predict': without_treatment_predict})\n",
    "# Take a look at the data\n",
    "ite_df.head()"
   ]
  },
  {
   "cell_type": "code",
   "execution_count": 9,
   "id": "002c1719",
   "metadata": {},
   "outputs": [
    {
     "data": {
      "text/plain": [
       "array([[<Axes: title={'center': 'ITE'}>]], dtype=object)"
      ]
     },
     "execution_count": 9,
     "metadata": {},
     "output_type": "execute_result"
    },
    {
     "data": {
      "image/png": "[encoded data removed]",
      "text/plain": [
       "<Figure size 1200x800 with 1 Axes>"
      ]
     },
     "metadata": {},
     "output_type": "display_data"
    }
   ],
   "source": [
    "# visualization\n",
    "ite_df.hist(column ='ITE', bins=50, grid=True, figsize=(12, 8))"
   ]
  },
  {
   "cell_type": "code",
   "execution_count": 10,
   "id": "ab4482c1",
   "metadata": {},
   "outputs": [
    {
     "name": "stdout",
     "output_type": "stream",
     "text": [
      "The average treatment effect (ATE) is 0.47\n"
     ]
    }
   ],
   "source": [
    "# Calculate ATE\n",
    "ATE = ite.mean()\n",
    "# Print out results\n",
    "print(f'The average treatment effect (ATE) is {ATE:.2f}')"
   ]
  },
  {
   "cell_type": "code",
   "execution_count": null,
   "id": "6e56eb12",
   "metadata": {},
   "outputs": [],
   "source": []
  },
  {
   "cell_type": "code",
   "execution_count": null,
   "id": "2e6c62bc",
   "metadata": {},
   "outputs": [],
   "source": []
  },
  {
   "cell_type": "code",
   "execution_count": null,
   "id": "5d0f9860",
   "metadata": {},
   "outputs": [],
   "source": []
  }
 ],
 "metadata": {
  "kernelspec": {
   "display_name": "Python 3 (ipykernel)",
   "language": "python",
   "name": "python3"
  },
  "language_info": {
   "codemirror_mode": {
    "name": "ipython",
    "version": 3
   },
   "file_extension": ".py",
   "mimetype": "text/x-python",
   "name": "python",
   "nbconvert_exporter": "python",
   "pygments_lexer": "ipython3",
   "version": "3.9.13"
  }
 },
 "nbformat": 4,
 "nbformat_minor": 5
}
